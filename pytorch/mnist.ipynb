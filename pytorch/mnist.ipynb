{
 "cells": [
  {
   "cell_type": "raw",
   "id": "05749a56-d6b9-4e47-bcab-946e2a79094f",
   "metadata": {},
   "source": [
    "source code from https://hackmd.io/@TienYi/pytorch-mnist"
   ]
  },
  {
   "cell_type": "code",
   "execution_count": 1,
   "id": "dc009235",
   "metadata": {},
   "outputs": [],
   "source": [
    "import torch\n",
    "import torch.nn as nn\n",
    "import torch.nn.functional as F\n",
    "from torch.autograd import Variable\n",
    "from torchsummary import summary\n",
    "from sklearn.model_selection import train_test_split\n",
    "import matplotlib.pyplot as plt\n",
    "from keras.datasets import mnist"
   ]
  },
  {
   "cell_type": "code",
   "execution_count": 2,
   "id": "48d0b672",
   "metadata": {},
   "outputs": [
    {
     "name": "stdout",
     "output_type": "stream",
     "text": [
      "cpu\n"
     ]
    }
   ],
   "source": [
    "device = torch.device('cuda' if torch.cuda.is_available() else 'cpu')\n",
    "print(device)"
   ]
  },
  {
   "cell_type": "code",
   "execution_count": 3,
   "id": "50b33ea3-b769-40fa-bc5a-284fa66a6d04",
   "metadata": {},
   "outputs": [],
   "source": [
    "# 使用 keras 直接載入 MNIST dataset\n",
    "(train_images, train_labels), (test_images, test_labels) = mnist.load_data()\n",
    "\n",
    "# Normalization\n",
    "train_images = train_images.astype('float32') / 255\n",
    "test_images = test_images.astype('float32') / 255\n",
    "\n",
    "# 利用 sklearn，將每一類都以 8:2 的比例分成訓練資料和測試資料\n",
    "features_train, features_test, targets_train, targets_test = train_test_split(train_images, train_labels, test_size = 0.2, random_state = 42)"
   ]
  },
  {
   "cell_type": "code",
   "execution_count": 4,
   "id": "a3c260a5-38e4-4f84-8bbe-197c42d49cb5",
   "metadata": {},
   "outputs": [
    {
     "data": {
      "text/plain": [
       "array([[0.        , 0.        , 0.        , 0.        , 0.        ,\n",
       "        0.        , 0.        , 0.        , 0.        , 0.        ,\n",
       "        0.        , 0.        , 0.        , 0.        , 0.        ,\n",
       "        0.        , 0.        , 0.        , 0.        , 0.        ,\n",
       "        0.        , 0.        , 0.        , 0.        , 0.        ,\n",
       "        0.        , 0.        , 0.        ],\n",
       "       [0.        , 0.        , 0.        , 0.        , 0.        ,\n",
       "        0.        , 0.        , 0.        , 0.        , 0.        ,\n",
       "        0.        , 0.        , 0.        , 0.        , 0.        ,\n",
       "        0.        , 0.        , 0.        , 0.        , 0.        ,\n",
       "        0.        , 0.        , 0.        , 0.        , 0.        ,\n",
       "        0.        , 0.        , 0.        ],\n",
       "       [0.        , 0.        , 0.        , 0.        , 0.        ,\n",
       "        0.        , 0.        , 0.        , 0.        , 0.        ,\n",
       "        0.        , 0.        , 0.        , 0.        , 0.        ,\n",
       "        0.        , 0.        , 0.        , 0.        , 0.        ,\n",
       "        0.        , 0.        , 0.        , 0.        , 0.        ,\n",
       "        0.        , 0.        , 0.        ],\n",
       "       [0.        , 0.        , 0.        , 0.        , 0.        ,\n",
       "        0.        , 0.        , 0.        , 0.        , 0.        ,\n",
       "        0.        , 0.        , 0.        , 0.        , 0.        ,\n",
       "        0.        , 0.        , 0.        , 0.        , 0.        ,\n",
       "        0.        , 0.        , 0.        , 0.        , 0.        ,\n",
       "        0.        , 0.        , 0.        ],\n",
       "       [0.        , 0.        , 0.        , 0.        , 0.        ,\n",
       "        0.        , 0.        , 0.        , 0.        , 0.        ,\n",
       "        0.        , 0.        , 0.        , 0.        , 0.        ,\n",
       "        0.        , 0.        , 0.        , 0.        , 0.        ,\n",
       "        0.        , 0.        , 0.        , 0.        , 0.        ,\n",
       "        0.        , 0.        , 0.        ],\n",
       "       [0.        , 0.        , 0.        , 0.        , 0.        ,\n",
       "        0.        , 0.        , 0.        , 0.        , 0.        ,\n",
       "        0.        , 0.        , 0.        , 0.        , 0.        ,\n",
       "        0.        , 0.        , 0.        , 0.        , 0.06666667,\n",
       "        0.18431373, 0.18431373, 0.18431373, 0.18431373, 0.18431373,\n",
       "        0.18431373, 0.10980392, 0.        ],\n",
       "       [0.        , 0.        , 0.        , 0.        , 0.        ,\n",
       "        0.        , 0.        , 0.        , 0.        , 0.05490196,\n",
       "        0.24705882, 0.        , 0.        , 0.        , 0.24313726,\n",
       "        0.5411765 , 0.77254903, 0.77254903, 0.77254903, 0.8509804 ,\n",
       "        0.99215686, 0.99215686, 0.99215686, 0.99215686, 0.99215686,\n",
       "        0.99215686, 0.9019608 , 0.        ],\n",
       "       [0.        , 0.        , 0.        , 0.        , 0.        ,\n",
       "        0.        , 0.        , 0.        , 0.        , 0.5921569 ,\n",
       "        0.6666667 , 0.        , 0.21960784, 0.9098039 , 0.98039216,\n",
       "        0.99215686, 0.90588236, 0.8509804 , 0.8509804 , 0.8509804 ,\n",
       "        0.8509804 , 0.8509804 , 0.8509804 , 0.8509804 , 0.5019608 ,\n",
       "        0.7019608 , 0.5176471 , 0.        ],\n",
       "       [0.        , 0.        , 0.        , 0.        , 0.        ,\n",
       "        0.        , 0.        , 0.        , 0.40784314, 0.9843137 ,\n",
       "        0.6666667 , 0.07843138, 0.9137255 , 0.99215686, 0.78039217,\n",
       "        0.32941177, 0.10196079, 0.        , 0.        , 0.        ,\n",
       "        0.        , 0.        , 0.        , 0.        , 0.        ,\n",
       "        0.        , 0.        , 0.        ],\n",
       "       [0.        , 0.        , 0.        , 0.        , 0.        ,\n",
       "        0.        , 0.        , 0.01960784, 0.79607844, 0.99215686,\n",
       "        0.627451  , 0.01176471, 0.07843138, 0.07843138, 0.02745098,\n",
       "        0.        , 0.        , 0.        , 0.        , 0.        ,\n",
       "        0.        , 0.        , 0.        , 0.        , 0.        ,\n",
       "        0.        , 0.        , 0.        ],\n",
       "       [0.        , 0.        , 0.        , 0.        , 0.        ,\n",
       "        0.        , 0.        , 0.3019608 , 0.99215686, 0.89411765,\n",
       "        0.08235294, 0.        , 0.        , 0.        , 0.        ,\n",
       "        0.        , 0.        , 0.        , 0.        , 0.        ,\n",
       "        0.        , 0.        , 0.        , 0.        , 0.        ,\n",
       "        0.        , 0.        , 0.        ],\n",
       "       [0.        , 0.        , 0.        , 0.        , 0.        ,\n",
       "        0.        , 0.        , 0.5882353 , 0.99215686, 0.9764706 ,\n",
       "        0.8745098 , 0.8745098 , 0.75686276, 0.2784314 , 0.02352941,\n",
       "        0.        , 0.        , 0.        , 0.        , 0.        ,\n",
       "        0.        , 0.        , 0.        , 0.        , 0.        ,\n",
       "        0.        , 0.        , 0.        ],\n",
       "       [0.        , 0.        , 0.        , 0.        , 0.        ,\n",
       "        0.        , 0.        , 0.49411765, 0.99215686, 0.99215686,\n",
       "        0.99215686, 0.99215686, 0.99215686, 0.99215686, 0.76862746,\n",
       "        0.4745098 , 0.        , 0.        , 0.        , 0.        ,\n",
       "        0.        , 0.        , 0.        , 0.        , 0.        ,\n",
       "        0.        , 0.        , 0.        ],\n",
       "       [0.        , 0.        , 0.        , 0.        , 0.        ,\n",
       "        0.        , 0.        , 0.03137255, 0.7921569 , 0.7490196 ,\n",
       "        0.5647059 , 0.5647059 , 0.8509804 , 0.9843137 , 0.99215686,\n",
       "        0.99215686, 0.6666667 , 0.01568628, 0.        , 0.        ,\n",
       "        0.        , 0.        , 0.        , 0.        , 0.        ,\n",
       "        0.        , 0.        , 0.        ],\n",
       "       [0.        , 0.        , 0.        , 0.        , 0.        ,\n",
       "        0.        , 0.        , 0.        , 0.        , 0.        ,\n",
       "        0.        , 0.        , 0.        , 0.20784314, 0.9254902 ,\n",
       "        0.99215686, 0.99215686, 0.84313726, 0.01176471, 0.        ,\n",
       "        0.        , 0.        , 0.        , 0.        , 0.        ,\n",
       "        0.        , 0.        , 0.        ],\n",
       "       [0.        , 0.        , 0.        , 0.        , 0.        ,\n",
       "        0.        , 0.        , 0.        , 0.        , 0.        ,\n",
       "        0.        , 0.        , 0.        , 0.        , 0.13333334,\n",
       "        0.7058824 , 0.99215686, 0.99215686, 0.5019608 , 0.        ,\n",
       "        0.        , 0.        , 0.        , 0.        , 0.        ,\n",
       "        0.        , 0.        , 0.        ],\n",
       "       [0.        , 0.        , 0.        , 0.        , 0.        ,\n",
       "        0.        , 0.        , 0.        , 0.        , 0.        ,\n",
       "        0.        , 0.        , 0.        , 0.        , 0.        ,\n",
       "        0.00784314, 0.54901963, 0.99215686, 0.9254902 , 0.14117648,\n",
       "        0.        , 0.        , 0.        , 0.        , 0.        ,\n",
       "        0.        , 0.        , 0.        ],\n",
       "       [0.        , 0.        , 0.        , 0.        , 0.        ,\n",
       "        0.        , 0.        , 0.14509805, 0.        , 0.        ,\n",
       "        0.        , 0.        , 0.        , 0.        , 0.        ,\n",
       "        0.        , 0.05098039, 0.84313726, 0.99215686, 0.24313726,\n",
       "        0.        , 0.        , 0.        , 0.        , 0.        ,\n",
       "        0.        , 0.        , 0.        ],\n",
       "       [0.        , 0.        , 0.        , 0.        , 0.        ,\n",
       "        0.        , 0.        , 0.9647059 , 0.20784314, 0.        ,\n",
       "        0.        , 0.        , 0.        , 0.        , 0.        ,\n",
       "        0.        , 0.        , 0.4117647 , 0.99215686, 0.24313726,\n",
       "        0.        , 0.        , 0.        , 0.        , 0.        ,\n",
       "        0.        , 0.        , 0.        ],\n",
       "       [0.        , 0.        , 0.        , 0.        , 0.        ,\n",
       "        0.        , 0.        , 0.99607843, 0.22352941, 0.        ,\n",
       "        0.        , 0.        , 0.        , 0.        , 0.        ,\n",
       "        0.        , 0.        , 0.3882353 , 0.99215686, 0.24313726,\n",
       "        0.        , 0.        , 0.        , 0.        , 0.        ,\n",
       "        0.        , 0.        , 0.        ],\n",
       "       [0.        , 0.        , 0.        , 0.        , 0.        ,\n",
       "        0.        , 0.        , 1.        , 0.25490198, 0.        ,\n",
       "        0.        , 0.        , 0.        , 0.        , 0.        ,\n",
       "        0.        , 0.13725491, 0.8509804 , 0.99215686, 0.24313726,\n",
       "        0.        , 0.        , 0.        , 0.        , 0.        ,\n",
       "        0.        , 0.        , 0.        ],\n",
       "       [0.        , 0.        , 0.        , 0.        , 0.        ,\n",
       "        0.        , 0.        , 0.8901961 , 0.8745098 , 0.4509804 ,\n",
       "        0.07058824, 0.        , 0.        , 0.01960784, 0.26666668,\n",
       "        0.44313726, 0.87058824, 0.99215686, 0.9490196 , 0.18039216,\n",
       "        0.        , 0.        , 0.        , 0.        , 0.        ,\n",
       "        0.        , 0.        , 0.        ],\n",
       "       [0.        , 0.        , 0.        , 0.        , 0.        ,\n",
       "        0.        , 0.        , 0.16078432, 0.8784314 , 0.99215686,\n",
       "        0.8901961 , 0.85490197, 0.85490197, 0.8627451 , 0.99215686,\n",
       "        0.99215686, 0.99215686, 0.9764706 , 0.29803923, 0.        ,\n",
       "        0.        , 0.        , 0.        , 0.        , 0.        ,\n",
       "        0.        , 0.        , 0.        ],\n",
       "       [0.        , 0.        , 0.        , 0.        , 0.        ,\n",
       "        0.        , 0.        , 0.        , 0.13725491, 0.5882353 ,\n",
       "        0.84313726, 0.99215686, 0.99215686, 0.99215686, 0.99215686,\n",
       "        0.8039216 , 0.6862745 , 0.22352941, 0.        , 0.        ,\n",
       "        0.        , 0.        , 0.        , 0.        , 0.        ,\n",
       "        0.        , 0.        , 0.        ],\n",
       "       [0.        , 0.        , 0.        , 0.        , 0.        ,\n",
       "        0.        , 0.        , 0.        , 0.        , 0.        ,\n",
       "        0.0627451 , 0.18039216, 0.18039216, 0.18039216, 0.18039216,\n",
       "        0.03137255, 0.        , 0.        , 0.        , 0.        ,\n",
       "        0.        , 0.        , 0.        , 0.        , 0.        ,\n",
       "        0.        , 0.        , 0.        ],\n",
       "       [0.        , 0.        , 0.        , 0.        , 0.        ,\n",
       "        0.        , 0.        , 0.        , 0.        , 0.        ,\n",
       "        0.        , 0.        , 0.        , 0.        , 0.        ,\n",
       "        0.        , 0.        , 0.        , 0.        , 0.        ,\n",
       "        0.        , 0.        , 0.        , 0.        , 0.        ,\n",
       "        0.        , 0.        , 0.        ],\n",
       "       [0.        , 0.        , 0.        , 0.        , 0.        ,\n",
       "        0.        , 0.        , 0.        , 0.        , 0.        ,\n",
       "        0.        , 0.        , 0.        , 0.        , 0.        ,\n",
       "        0.        , 0.        , 0.        , 0.        , 0.        ,\n",
       "        0.        , 0.        , 0.        , 0.        , 0.        ,\n",
       "        0.        , 0.        , 0.        ],\n",
       "       [0.        , 0.        , 0.        , 0.        , 0.        ,\n",
       "        0.        , 0.        , 0.        , 0.        , 0.        ,\n",
       "        0.        , 0.        , 0.        , 0.        , 0.        ,\n",
       "        0.        , 0.        , 0.        , 0.        , 0.        ,\n",
       "        0.        , 0.        , 0.        , 0.        , 0.        ,\n",
       "        0.        , 0.        , 0.        ]], dtype=float32)"
      ]
     },
     "execution_count": 4,
     "metadata": {},
     "output_type": "execute_result"
    }
   ],
   "source": [
    "features_train[0]"
   ]
  },
  {
   "cell_type": "code",
   "execution_count": 5,
   "id": "f000adcf-5391-4678-8497-6b0256c0d766",
   "metadata": {},
   "outputs": [
    {
     "data": {
      "text/plain": [
       "5"
      ]
     },
     "execution_count": 5,
     "metadata": {},
     "output_type": "execute_result"
    }
   ],
   "source": [
    "targets_train[0]"
   ]
  },
  {
   "cell_type": "code",
   "execution_count": 6,
   "id": "916e5736-7107-4416-8d19-41c7cbf9ef5a",
   "metadata": {},
   "outputs": [],
   "source": [
    "# 將切好的 data 轉成 tensor 形式\n",
    "# Training Datasets\n",
    "featuresTrain = torch.from_numpy(features_train)\n",
    "targetsTrain = torch.from_numpy(targets_train).type(torch.LongTensor)     # data type is long"
   ]
  },
  {
   "cell_type": "code",
   "execution_count": 7,
   "id": "247ac663-07e1-4460-9b08-a2076532b8ff",
   "metadata": {},
   "outputs": [
    {
     "data": {
      "text/plain": [
       "torch.Tensor"
      ]
     },
     "execution_count": 7,
     "metadata": {},
     "output_type": "execute_result"
    }
   ],
   "source": [
    "type(featuresTrain)"
   ]
  },
  {
   "cell_type": "code",
   "execution_count": 8,
   "id": "dbf2f29f-d012-41e6-aa1f-c92f29c526f0",
   "metadata": {},
   "outputs": [
    {
     "data": {
      "text/plain": [
       "torch.float32"
      ]
     },
     "execution_count": 8,
     "metadata": {},
     "output_type": "execute_result"
    }
   ],
   "source": [
    "featuresTrain.dtype"
   ]
  },
  {
   "cell_type": "code",
   "execution_count": 9,
   "id": "fef242cd-c6a1-41a8-ac2c-1fd25d85fa16",
   "metadata": {},
   "outputs": [
    {
     "data": {
      "text/plain": [
       "torch.Size([48000, 28, 28])"
      ]
     },
     "execution_count": 9,
     "metadata": {},
     "output_type": "execute_result"
    }
   ],
   "source": [
    "featuresTrain.shape"
   ]
  },
  {
   "cell_type": "code",
   "execution_count": 10,
   "id": "17521982-c4d9-4b0b-a440-b4d4b09f18c3",
   "metadata": {},
   "outputs": [
    {
     "data": {
      "text/plain": [
       "tensor([5, 0, 1,  ..., 0, 0, 4])"
      ]
     },
     "execution_count": 10,
     "metadata": {},
     "output_type": "execute_result"
    }
   ],
   "source": [
    "targetsTrain"
   ]
  },
  {
   "cell_type": "code",
   "execution_count": 11,
   "id": "ada75739-bab8-4d58-a5c0-c5688b3821fb",
   "metadata": {},
   "outputs": [],
   "source": [
    "# Testing Datasets\n",
    "featuresTest = torch.from_numpy(features_test)\n",
    "targetsTest = torch.from_numpy(targets_test).type(torch.LongTensor)       # data type is long"
   ]
  },
  {
   "cell_type": "code",
   "execution_count": 12,
   "id": "2ce942c0-af7b-4431-a501-9c27fc14db62",
   "metadata": {},
   "outputs": [],
   "source": [
    "# 使用 torch.utils.data.TensorDataset 將 train 和 test datasets 存成 tensor 形式\n",
    "# Pytorch train and test TensorDataset\n",
    "train = torch.utils.data.TensorDataset(featuresTrain, targetsTrain)\n",
    "test = torch.utils.data.TensorDataset(featuresTest, targetsTest)"
   ]
  },
  {
   "cell_type": "code",
   "execution_count": 13,
   "id": "6fbe5ada-ee46-4a56-88f0-946320b652d5",
   "metadata": {},
   "outputs": [
    {
     "data": {
      "text/plain": [
       "torch.utils.data.dataset.TensorDataset"
      ]
     },
     "execution_count": 13,
     "metadata": {},
     "output_type": "execute_result"
    }
   ],
   "source": [
    "type(train)"
   ]
  },
  {
   "cell_type": "code",
   "execution_count": 14,
   "id": "9862f317-186f-4555-a480-e95491cdfe46",
   "metadata": {},
   "outputs": [],
   "source": [
    "LR = 0.01                                                        # Learning Rate\n",
    "batch_size = 100                                                 # Batch size\n",
    "n_iters = 10000                                                  # Iterations each epoch\n",
    "num_epochs = n_iters / (len(features_train) / batch_size)        \n",
    "num_epochs = int(num_epochs)                                     # Epochs"
   ]
  },
  {
   "cell_type": "code",
   "execution_count": 15,
   "id": "f499da1b-2bab-4e1e-b353-977d753993ad",
   "metadata": {},
   "outputs": [
    {
     "data": {
      "text/plain": [
       "20"
      ]
     },
     "execution_count": 15,
     "metadata": {},
     "output_type": "execute_result"
    }
   ],
   "source": [
    "num_epochs"
   ]
  },
  {
   "cell_type": "code",
   "execution_count": 16,
   "id": "680a7a0b-4951-4699-b3d1-3d45137e45db",
   "metadata": {},
   "outputs": [],
   "source": [
    "# torch.utils.data.TensorDatasetDataLoader(dataset, batch_size=1, shuffle=False,...) 為數據加載器\n",
    "# 組合數據集和採樣器，並在數據集上提供單進程或多進程迭代器\n",
    "# Pytorch DataLoader\n",
    "train_loader = torch.utils.data.DataLoader(train, batch_size = batch_size, shuffle = True)\n",
    "test_loader = torch.utils.data.DataLoader(test, batch_size = batch_size, shuffle = True)"
   ]
  },
  {
   "cell_type": "code",
   "execution_count": 17,
   "id": "0064ec71-164f-4582-836d-44fe5371debf",
   "metadata": {},
   "outputs": [],
   "source": [
    "import matplotlib.pyplot as plt"
   ]
  },
  {
   "cell_type": "code",
   "execution_count": 85,
   "id": "ed43f702-ee61-40c9-902f-e0a6bb91c8dc",
   "metadata": {
    "scrolled": true
   },
   "outputs": [
    {
     "name": "stdout",
     "output_type": "stream",
     "text": [
      "----------------------------------------------------------------\n",
      "        Layer (type)               Output Shape         Param #\n",
      "================================================================\n",
      "            Conv2d-1            [-1, 4, 26, 26]              40\n",
      "              ReLU-2            [-1, 4, 26, 26]               0\n",
      "         MaxPool2d-3            [-1, 4, 13, 13]               0\n",
      "            Conv2d-4           [-1, 10, 11, 11]             370\n",
      "              ReLU-5           [-1, 10, 11, 11]               0\n",
      "         MaxPool2d-6             [-1, 10, 5, 5]               0\n",
      "         AvgPool2d-7             [-1, 10, 1, 1]               0\n",
      "            Linear-8                   [-1, 10]             110\n",
      "================================================================\n",
      "Total params: 520\n",
      "Trainable params: 520\n",
      "Non-trainable params: 0\n",
      "----------------------------------------------------------------\n",
      "Input size (MB): 0.00\n",
      "Forward/backward pass size (MB): 0.07\n",
      "Params size (MB): 0.00\n",
      "Estimated Total Size (MB): 0.07\n",
      "----------------------------------------------------------------\n"
     ]
    }
   ],
   "source": [
    "# Create CNN Model\n",
    "class CNN_Model(nn.Module):\n",
    "    def __init__(self):\n",
    "        super(CNN_Model, self).__init__()\n",
    "        # Convolution 1 , input_shape=(1,28,28), output_shape=(1,26,26)\n",
    "        self.cnn1 = nn.Conv2d(in_channels=1, out_channels=4, kernel_size=3, stride=1, padding=0)\n",
    "        # activation\n",
    "        self.relu1 = nn.ReLU() \n",
    "        # Max pool 1, output_shape=(1,13,13)\n",
    "        self.maxpool1 = nn.MaxPool2d(kernel_size=2) \n",
    "        # Convolution 2, output_shape=(1,11,11)\n",
    "        self.cnn2 = nn.Conv2d(in_channels=4, out_channels=10, kernel_size=3, stride=1, padding=0)\n",
    "        # activation\n",
    "        self.relu2 = nn.ReLU() \n",
    "        # Max pool 2, output_shape=(10,5,5)\n",
    "        self.maxpool2 = nn.MaxPool2d(kernel_size=2)\n",
    "        # Average pool, output_shape=(10,1,1)\n",
    "        self.avgpool = nn.AvgPool2d(kernel_size=5)\n",
    "        # Fully connected 1, input_shape=(1*5*5)\n",
    "        # self.fc1 = nn.Linear(10 * 5 * 5, 10) \n",
    "        self.fc1 = nn.Linear(10 * 1 * 1, 10) \n",
    "    \n",
    "    def forward(self, x):\n",
    "        # Convolution 1\n",
    "        out = self.cnn1(x)\n",
    "        out = self.relu1(out)\n",
    "        # Max pool 1\n",
    "        out = self.maxpool1(out)\n",
    "        # Convolution 2 \n",
    "        out = self.cnn2(out)\n",
    "        out = self.relu2(out)\n",
    "        # Max pool 2 \n",
    "        out = self.maxpool2(out)\n",
    "        # Average pool\n",
    "        out = self.avgpool(out)\n",
    "        out = out.view(out.size(0), -1)\n",
    "        # Linear function (readout)\n",
    "        out = self.fc1(out)\n",
    "        return out\n",
    "\n",
    "model = CNN_Model().to(device)                            # Create the CNN Model             \n",
    "optimizer = torch.optim.Adam(model.parameters(), lr = LR) # 選擇你想用的 optimizer(Adam)\n",
    "summary(model, (1, 28, 28))                               # 利用 torchsummary 的 summary package 印出模型資訊，input size: (1 * 28 * 28) \n",
    "loss_func = nn.CrossEntropyLoss()                         # 選擇想用的 loss function(CrossEntropy)\n",
    "input_shape = (-1, 1, 28, 28)"
   ]
  },
  {
   "cell_type": "code",
   "execution_count": 66,
   "id": "8b7c28dd-e376-4529-818b-8d3abdc13362",
   "metadata": {},
   "outputs": [],
   "source": [
    "# 訓練 function\n",
    "def fit_model(model, loss_func, optimizer, input_shape, num_epochs, train_loader, test_loader):\n",
    "    # Traning the Model\n",
    "    # 儲存訓練資訊的 List\n",
    "    training_loss, training_accuracy = [], []\n",
    "    validation_loss, validation_accuracy = [], []\n",
    "    for epoch in range(num_epochs):\n",
    "        # ---------------------------\n",
    "        # Training Stage\n",
    "        # ---------------------------\n",
    "        correct_train, total_train = 0, 0\n",
    "        for i, (images, labels) in enumerate(train_loader):\n",
    "            train, labels = images.view(input_shape).to(device), labels.to(device)  # extract training data and label\n",
    "            optimizer.zero_grad()                                                   # reset gradient\n",
    "            outputs = model(train)                                                  # 將訓練資料輸入至模型進行訓練 (Forward propagation)\n",
    "            train_loss = loss_func(outputs, labels)                                 # 計算 loss\n",
    "            train_loss.backward()                                                   # 將 loss 反向傳播\n",
    "            optimizer.step()                                                        # 更新權重\n",
    "            \n",
    "            # 計算訓練資料的準確度 (correct_train / total_train)\n",
    "            predicted = torch.max(outputs.data, 1)[1]                               # 取出預測的 maximum\n",
    "            total_train += len(labels)                                              # 全部的 label 數 (Total number of labels)\n",
    "            correct_train += (predicted == labels).float().sum()                    # 全部猜中的個數 (Total correct predictions)\n",
    "        \n",
    "        # 將 accuracy 和 loss 存入 list\n",
    "        train_accuracy = 100 * correct_train / float(total_train)                   # training accuracy (To cpu())\n",
    "        training_accuracy.append(train_accuracy.cpu())\n",
    "        training_loss.append(train_loss.data.cpu())                                 # training loss (To cpu())\n",
    "\n",
    "        # --------------------------\n",
    "        # Testing Stage\n",
    "        # --------------------------\n",
    "        correct_test, total_test = 0, 0\n",
    "        for images, labels in test_loader:\n",
    "            test, labels = images.view(input_shape).to(device), labels.to(device)   # 取出 testing data 以及 labels(轉 device 的型態)\n",
    "            outputs = model(test)                                                   # 將測試資料輸入至模型進行測試 (Forward propagation)\n",
    "            val_loss = loss_func(outputs, labels)                                   # 計算 loss\n",
    "            \n",
    "            # 計算測試資料的準確度 (correct_test / total_test)\n",
    "            predicted = torch.max(outputs.data, 1)[1]                               # 取出預測的 maximum\n",
    "            total_test += len(labels)                                               # 全部的 label 數 (Total number of labels)\n",
    "            correct_test += (predicted == labels).float().sum()                     # 全部猜中的個數 (Total correct predictions)\n",
    "            \n",
    "        # 將 accuracy 和 loss 存入 list\n",
    "        val_accuracy = 100 * correct_test / float(total_test)                       # testing accuracy (To cpu())\n",
    "        validation_accuracy.append(val_accuracy.cpu())\n",
    "        validation_loss.append(val_loss.data.cpu())                                 # testing loss (To cpu())\n",
    "        \n",
    "        # 顯現當前 Epoch 訓練情況\n",
    "        print('Train Epoch: {}/{} Traing_Loss: {} Traing_acc: {:.6f}% Val_Loss: {} Val_accuracy: {:.6f}%'.format(epoch+1, num_epochs, train_loss.data, train_accuracy, val_loss.data, val_accuracy))\n",
    "    return training_loss, training_accuracy, validation_loss, validation_accuracy"
   ]
  },
  {
   "cell_type": "code",
   "execution_count": 86,
   "id": "9d828f32-0e75-4229-b41b-aa469ea4f8a7",
   "metadata": {
    "scrolled": true
   },
   "outputs": [
    {
     "name": "stdout",
     "output_type": "stream",
     "text": [
      "Train Epoch: 1/20 Traing_Loss: 0.8146040439605713 Traing_acc: 56.091667% Val_Loss: 0.5743509531021118 Val_accuracy: 75.366669%\n",
      "Train Epoch: 2/20 Traing_Loss: 0.4250917434692383 Traing_acc: 82.420830% Val_Loss: 0.264478862285614 Val_accuracy: 84.933334%\n",
      "Train Epoch: 3/20 Traing_Loss: 0.36569440364837646 Traing_acc: 86.204170% Val_Loss: 0.47232264280319214 Val_accuracy: 86.541664%\n",
      "Train Epoch: 4/20 Traing_Loss: 0.24268700182437897 Traing_acc: 87.870834% Val_Loss: 0.4188303053379059 Val_accuracy: 86.083336%\n",
      "Train Epoch: 5/20 Traing_Loss: 0.3627376854419708 Traing_acc: 88.985420% Val_Loss: 0.3797226846218109 Val_accuracy: 87.775002%\n",
      "Train Epoch: 6/20 Traing_Loss: 0.18427540361881256 Traing_acc: 89.541664% Val_Loss: 0.35305169224739075 Val_accuracy: 88.158333%\n",
      "Train Epoch: 7/20 Traing_Loss: 0.22373411059379578 Traing_acc: 89.947914% Val_Loss: 0.22612027823925018 Val_accuracy: 89.908333%\n",
      "Train Epoch: 8/20 Traing_Loss: 0.3222634196281433 Traing_acc: 90.245834% Val_Loss: 0.26324474811553955 Val_accuracy: 90.183334%\n",
      "Train Epoch: 9/20 Traing_Loss: 0.3350900411605835 Traing_acc: 90.622917% Val_Loss: 0.2973913252353668 Val_accuracy: 89.816666%\n",
      "Train Epoch: 10/20 Traing_Loss: 0.32288092374801636 Traing_acc: 91.074997% Val_Loss: 0.29008281230926514 Val_accuracy: 91.258331%\n",
      "Train Epoch: 11/20 Traing_Loss: 0.3885062336921692 Traing_acc: 91.456253% Val_Loss: 0.23668888211250305 Val_accuracy: 91.208336%\n",
      "Train Epoch: 12/20 Traing_Loss: 0.22844769060611725 Traing_acc: 91.510414% Val_Loss: 0.19785362482070923 Val_accuracy: 91.816666%\n",
      "Train Epoch: 13/20 Traing_Loss: 0.1275976598262787 Traing_acc: 91.585419% Val_Loss: 0.25900256633758545 Val_accuracy: 91.041664%\n",
      "Train Epoch: 14/20 Traing_Loss: 0.2096925526857376 Traing_acc: 91.814583% Val_Loss: 0.14099262654781342 Val_accuracy: 91.833336%\n",
      "Train Epoch: 15/20 Traing_Loss: 0.3520619869232178 Traing_acc: 91.958336% Val_Loss: 0.45658987760543823 Val_accuracy: 91.458336%\n",
      "Train Epoch: 16/20 Traing_Loss: 0.16283506155014038 Traing_acc: 92.133331% Val_Loss: 0.14250074326992035 Val_accuracy: 92.150002%\n",
      "Train Epoch: 17/20 Traing_Loss: 0.38064488768577576 Traing_acc: 92.202080% Val_Loss: 0.20096199214458466 Val_accuracy: 92.483330%\n",
      "Train Epoch: 18/20 Traing_Loss: 0.17911161482334137 Traing_acc: 92.275002% Val_Loss: 0.4317421317100525 Val_accuracy: 92.099998%\n",
      "Train Epoch: 19/20 Traing_Loss: 0.3708673417568207 Traing_acc: 92.477081% Val_Loss: 0.2478993982076645 Val_accuracy: 90.074997%\n",
      "Train Epoch: 20/20 Traing_Loss: 0.23288817703723907 Traing_acc: 92.566666% Val_Loss: 0.1979232281446457 Val_accuracy: 92.833336%\n"
     ]
    }
   ],
   "source": [
    "training_loss, training_accuracy, validation_loss, validation_accuracy = fit_model(model, loss_func, optimizer, input_shape, num_epochs, train_loader, test_loader)"
   ]
  },
  {
   "cell_type": "code",
   "execution_count": 62,
   "id": "7719f1c7-e37e-4517-836d-b042ae572014",
   "metadata": {},
   "outputs": [],
   "source": [
    "# test with test data\n",
    "testImages = torch.from_numpy(test_images)\n",
    "testLabels = torch.from_numpy(test_labels).type(torch.LongTensor)   \n",
    "verify = torch.utils.data.TensorDataset(testImages, testLabels)\n",
    "verify_loader = torch.utils.data.DataLoader(verify, batch_size = batch_size, shuffle = False)"
   ]
  },
  {
   "cell_type": "code",
   "execution_count": 71,
   "id": "2c5febb5-6fd3-4cdc-8fb2-0e2c41e8eae8",
   "metadata": {},
   "outputs": [],
   "source": [
    "def verify_model(model, input_shape, loader):\n",
    "    correct_test, total_test = 0, 0\n",
    "    for images, labels in loader:\n",
    "        test, labels = images.view(input_shape).to(device), labels.to(device)   # 取出 testing data 以及 labels(轉 device 的型態)\n",
    "        outputs = model(test)                                                   # 將測試資料輸入至模型進行測試 (Forward propagation)                                 # 計算 loss\n",
    "        \n",
    "        # 計算測試資料的準確度 (correct_test / total_test)\n",
    "        # print(torch.max(outputs.data, 1)[1])\n",
    "        # print(labels)\n",
    "        # print(\"--------------\")\n",
    "        predicted = torch.max(outputs.data, 1)[1]                               # 取出預測的 maximum\n",
    "        total_test += len(labels)                                               # 全部的 label 數 (Total number of labels)\n",
    "        correct_test += (predicted == labels).float().sum()   \n",
    "    val_accuracy = 100 * correct_test / float(total_test)\n",
    "    print(\"Verified Accuracy: %f (%d/%d)\" % (val_accuracy, correct_test, total_test))\n",
    "    return"
   ]
  },
  {
   "cell_type": "code",
   "execution_count": 87,
   "id": "d538eca1-95bb-44e4-8a35-a40537bff67c",
   "metadata": {
    "scrolled": true
   },
   "outputs": [
    {
     "name": "stdout",
     "output_type": "stream",
     "text": [
      "Verified Accuracy: 93.040001 (9304/10000)\n"
     ]
    }
   ],
   "source": [
    "verify_model(model, input_shape, verify_loader)"
   ]
  },
  {
   "cell_type": "code",
   "execution_count": 89,
   "id": "48d2d612-93cc-4612-a2e0-94adedebeac3",
   "metadata": {},
   "outputs": [
    {
     "name": "stdout",
     "output_type": "stream",
     "text": [
      "cnn1.weight\n",
      "cnn1.bias\n",
      "cnn2.weight\n",
      "cnn2.bias\n",
      "fc1.weight\n",
      "fc1.bias\n"
     ]
    }
   ],
   "source": [
    "for name, param in model.named_parameters():\n",
    "    print(name)"
   ]
  },
  {
   "cell_type": "code",
   "execution_count": 90,
   "id": "c1963b90-988c-4cea-a866-d025e0ad3882",
   "metadata": {},
   "outputs": [
    {
     "name": "stdout",
     "output_type": "stream",
     "text": [
      "tensor([[[[ 0.9733,  2.2065,  2.0408],\n",
      "          [ 1.1901,  0.1466, -1.2374],\n",
      "          [ 0.5957, -0.9144,  0.0440]]],\n",
      "\n",
      "\n",
      "        [[[ 0.5374,  2.4182,  2.8426],\n",
      "          [-0.9732,  1.3385,  0.0107],\n",
      "          [-4.6548, -3.6290, -5.7798]]],\n",
      "\n",
      "\n",
      "        [[[ 0.1510,  1.6150, -5.0594],\n",
      "          [-2.6212, -7.0269, -5.0732],\n",
      "          [-2.8966,  3.0128, -2.7448]]],\n",
      "\n",
      "\n",
      "        [[[-1.2517, -2.5902, -1.7196],\n",
      "          [ 0.9144, -0.2910,  0.5186],\n",
      "          [ 2.1329,  2.0890,  1.5766]]]])\n",
      "tensor([-0.0410, -0.0021,  1.4504, -0.0150])\n",
      "tensor([[[[-4.6837e-01, -5.5493e-01, -1.2152e-01],\n",
      "          [-1.6839e-01,  4.3158e-01,  1.9400e-01],\n",
      "          [ 6.8899e-01,  1.8456e-01,  8.3717e-03]],\n",
      "\n",
      "         [[-8.0337e-01,  6.1371e-01, -2.1128e+00],\n",
      "          [-1.6299e+00, -4.1353e-01,  1.4319e+00],\n",
      "          [ 1.1272e+00,  1.3637e+00,  3.3574e+00]],\n",
      "\n",
      "         [[-9.2033e-01, -3.5494e-01, -4.0578e-01],\n",
      "          [-2.4812e-01,  1.0597e-01, -1.3861e-01],\n",
      "          [ 1.7561e-01,  1.1363e+00,  2.5586e-01]],\n",
      "\n",
      "         [[-1.9016e-02,  5.9905e-02, -3.7050e-01],\n",
      "          [-6.1003e-01, -1.0050e+00,  8.3916e-02],\n",
      "          [ 9.7476e-04, -1.3271e+00, -1.1358e+00]]],\n",
      "\n",
      "\n",
      "        [[[ 1.1876e+00, -3.4570e-01, -4.2083e-01],\n",
      "          [ 1.7471e-01, -3.3450e-02,  9.3952e-01],\n",
      "          [-2.7074e+00, -1.2931e+00, -2.2635e+00]],\n",
      "\n",
      "         [[-4.8228e-01, -1.7405e-01, -4.3257e-01],\n",
      "          [ 2.4642e-01, -2.4783e-02,  1.1744e+00],\n",
      "          [ 1.4596e+00,  1.7404e+00,  8.2524e-01]],\n",
      "\n",
      "         [[-7.8801e-01, -6.5787e-01, -1.5045e+00],\n",
      "          [ 1.0229e-01, -7.4418e-01,  7.4613e-01],\n",
      "          [ 2.5265e-01,  7.2738e-02,  1.7880e+00]],\n",
      "\n",
      "         [[-9.6999e-01,  3.9727e-01,  6.8033e-01],\n",
      "          [-1.1222e+00,  1.5374e+00, -2.0617e-01],\n",
      "          [-1.8106e+00, -2.9802e-01, -1.2805e+00]]],\n",
      "\n",
      "\n",
      "        [[[ 4.6443e-01,  1.2236e+00,  1.2324e+00],\n",
      "          [ 9.8441e-02,  6.9551e-01, -8.4652e-01],\n",
      "          [-4.2504e-01, -9.2498e-01, -2.6305e+00]],\n",
      "\n",
      "         [[-1.3178e+00,  2.0731e-01,  2.1018e+00],\n",
      "          [-1.1257e+00,  9.9323e-01, -8.0431e-01],\n",
      "          [ 1.1107e+00,  2.3506e+00, -1.6716e+00]],\n",
      "\n",
      "         [[-2.1760e-01,  8.9750e-02,  6.7375e-01],\n",
      "          [-8.9208e-01, -1.8073e+00,  3.8885e-01],\n",
      "          [-6.9319e-01, -2.2066e-01, -3.0432e-01]],\n",
      "\n",
      "         [[-2.5567e+00,  3.4212e-01,  3.2063e-01],\n",
      "          [-2.8364e+00,  5.4900e-01, -1.3069e+00],\n",
      "          [-6.9366e+00, -7.2950e-01, -1.2497e+00]]],\n",
      "\n",
      "\n",
      "        [[[ 1.3463e+00, -1.8772e-01, -5.0501e-01],\n",
      "          [-1.1390e+00, -3.1804e-01,  5.6869e-02],\n",
      "          [ 4.7274e-01,  4.5569e-01,  7.5356e-01]],\n",
      "\n",
      "         [[ 2.7331e+00,  1.1583e+00, -1.8943e+00],\n",
      "          [ 8.8554e-01, -2.2727e+00,  5.4144e-01],\n",
      "          [-2.8587e-01, -7.6476e-01, -5.9206e-01]],\n",
      "\n",
      "         [[-2.9931e-01, -2.5206e+00, -2.5138e+00],\n",
      "          [ 6.2424e-01, -4.4582e-01, -6.1829e+00],\n",
      "          [ 4.6041e-01, -1.4298e+00, -3.5099e+00]],\n",
      "\n",
      "         [[ 9.4776e-01, -2.7173e-01, -9.4511e-01],\n",
      "          [-1.7736e+00,  4.0775e-01,  2.2166e-01],\n",
      "          [ 1.1883e+00, -4.8318e-01, -8.4398e-01]]],\n",
      "\n",
      "\n",
      "        [[[-1.6713e+00,  5.7886e-01,  9.6891e-01],\n",
      "          [-7.5240e-02,  8.1264e-01,  7.4006e-01],\n",
      "          [ 9.3666e-03,  8.8085e-01, -6.5084e-02]],\n",
      "\n",
      "         [[ 2.1216e+00, -4.3384e-02, -6.6275e-01],\n",
      "          [ 9.3779e-01, -1.6094e+00, -2.2124e-01],\n",
      "          [-1.3957e+00, -1.3896e+00, -5.8788e-01]],\n",
      "\n",
      "         [[ 2.1679e+00, -1.2369e+00, -2.6845e+00],\n",
      "          [ 1.4449e+00, -1.7062e+00,  5.2869e-01],\n",
      "          [ 1.2592e+00, -8.5809e-01,  3.2744e-02]],\n",
      "\n",
      "         [[ 1.3650e+00,  2.3538e-01, -2.0535e+00],\n",
      "          [ 7.1089e-01, -8.2711e-01, -9.6183e-01],\n",
      "          [-2.0019e+00, -2.8942e+00, -1.4424e+00]]],\n",
      "\n",
      "\n",
      "        [[[-8.0526e-01,  4.4305e-01,  2.0966e+00],\n",
      "          [-3.3796e-01, -2.8791e-02, -6.4067e-01],\n",
      "          [-1.4653e-01, -1.1456e+00, -1.0763e+00]],\n",
      "\n",
      "         [[-3.2472e+00, -1.8849e+00,  9.3697e-01],\n",
      "          [-7.7863e-01, -1.4318e+00, -2.4155e-01],\n",
      "          [-4.3653e-01,  5.8770e-01,  1.1477e-01]],\n",
      "\n",
      "         [[-9.7240e-02, -7.6789e+00, -2.2844e-01],\n",
      "          [-1.8028e+00, -4.6550e+00, -5.9820e-01],\n",
      "          [ 3.8969e-01, -6.3705e+00, -2.8659e+00]],\n",
      "\n",
      "         [[ 1.8258e-01,  1.5110e+00, -4.6861e-01],\n",
      "          [ 2.7988e-01, -1.0821e-01,  2.6843e-01],\n",
      "          [-1.2214e+00,  3.1913e-01,  2.3302e+00]]],\n",
      "\n",
      "\n",
      "        [[[-1.5051e+00, -3.5396e+00, -1.7134e+00],\n",
      "          [ 3.0146e-02,  2.3211e-01, -6.5253e-01],\n",
      "          [ 6.4308e-01,  1.3950e+00, -1.0069e+00]],\n",
      "\n",
      "         [[-2.1823e+00, -2.9906e+00, -6.1053e+00],\n",
      "          [ 1.1510e+00, -1.3186e+00, -3.0069e+00],\n",
      "          [-1.0112e+00, -2.2944e+00, -2.4971e+00]],\n",
      "\n",
      "         [[-4.3915e-02, -8.4595e-02, -2.1293e-01],\n",
      "          [ 5.6183e-01, -2.7380e-01,  3.4916e-01],\n",
      "          [ 8.0538e-01,  2.3207e-01,  8.8915e-01]],\n",
      "\n",
      "         [[ 2.4756e+00,  2.1995e+00, -1.6570e+00],\n",
      "          [ 3.1967e-01,  5.3926e-01, -1.4570e+00],\n",
      "          [-1.1069e+00, -5.7197e+00, -4.7224e+00]]],\n",
      "\n",
      "\n",
      "        [[[ 2.2752e-01, -1.5443e-01,  9.6076e-01],\n",
      "          [ 1.9151e-02, -1.4809e-01, -2.4033e-01],\n",
      "          [ 9.5030e-02,  5.3521e-01, -7.8239e-01]],\n",
      "\n",
      "         [[ 1.6898e+00,  1.3931e+00,  2.9893e+00],\n",
      "          [-2.4256e+00, -9.8302e-01,  6.4549e-02],\n",
      "          [-1.9253e+00,  1.3752e+00, -1.3670e+00]],\n",
      "\n",
      "         [[ 4.7038e-01,  6.5187e-01,  5.3682e-01],\n",
      "          [-5.5691e-02, -8.7933e-02,  2.6895e-01],\n",
      "          [-6.6963e-01, -6.5105e-01, -7.5168e-01]],\n",
      "\n",
      "         [[-5.5080e-01, -4.2093e-01, -1.6412e+00],\n",
      "          [-1.3242e+00, -5.3845e-01,  9.6524e-01],\n",
      "          [-4.3346e-01, -4.0307e-01,  1.0834e+00]]],\n",
      "\n",
      "\n",
      "        [[[-5.9709e+00, -1.3071e+00, -1.9910e+00],\n",
      "          [-1.1025e+00, -1.9545e+00, -1.5198e+00],\n",
      "          [ 1.7488e-01, -8.5795e-02,  1.8118e-01]],\n",
      "\n",
      "         [[ 2.6993e-01,  2.7013e+00,  2.2018e+00],\n",
      "          [-2.6986e+00, -2.7198e+00,  7.2068e-01],\n",
      "          [-5.0650e-02,  3.3747e-01,  9.7794e-01]],\n",
      "\n",
      "         [[-3.4095e-01, -6.3350e-02,  8.2132e-03],\n",
      "          [-1.3194e+00, -1.0728e+00, -4.7843e-01],\n",
      "          [-2.0421e+00, -8.4084e-01, -1.0363e+00]],\n",
      "\n",
      "         [[ 2.0164e+00, -7.2108e-01, -1.3219e+00],\n",
      "          [ 1.0657e+00,  4.6169e-01,  7.3171e-01],\n",
      "          [ 3.5466e-01,  4.4160e-01,  9.6398e-01]]],\n",
      "\n",
      "\n",
      "        [[[-9.1577e-01, -1.5283e-01,  4.1958e-01],\n",
      "          [-1.9481e+00, -1.1915e+00, -8.2694e-01],\n",
      "          [-6.2286e+00,  7.5497e-01, -5.2627e-01]],\n",
      "\n",
      "         [[ 1.0000e+00,  2.3589e+00,  2.2925e+00],\n",
      "          [-1.7656e-01,  8.9989e-01, -9.4528e-01],\n",
      "          [-2.2903e+00,  2.0293e-01,  7.7226e-01]],\n",
      "\n",
      "         [[ 2.6087e-01, -4.1176e-01, -2.0061e-01],\n",
      "          [ 2.1422e-02,  1.4756e-01,  1.1588e+00],\n",
      "          [-9.8189e-02, -9.7133e-01, -7.5755e-01]],\n",
      "\n",
      "         [[-4.8037e-01, -5.8213e-01, -1.0501e+00],\n",
      "          [-1.1354e+00,  2.6220e+00,  1.3375e+00],\n",
      "          [-3.6100e+00,  9.6538e-01,  2.7200e-01]]]])\n",
      "tensor([-0.2100, -1.2848, -0.5785, -0.8257,  0.8994, -0.3253, -0.7786,  0.1905,\n",
      "        -0.6690, -1.0330])\n",
      "tensor([[ 5.4267e-01,  5.2927e-02, -8.3809e-01, -1.6545e+00,  1.6394e+00,\n",
      "          3.7601e-01, -3.5779e+00, -3.8379e-01,  3.1050e-01, -9.0583e-01],\n",
      "        [ 6.1551e-01, -1.3908e-02,  3.1232e-01, -2.0462e+00,  6.9187e-01,\n",
      "         -5.8363e+00,  1.0364e+00, -2.0046e+00, -7.8377e-01,  1.0723e+00],\n",
      "        [ 6.4996e-01,  1.5146e+00,  9.3627e-01,  1.5490e-01, -9.0089e-01,\n",
      "          5.4940e-01,  1.2875e-01, -1.3067e+00, -4.7901e-02,  6.4095e-01],\n",
      "        [ 4.7998e-01,  9.1972e-02, -8.6743e-01,  2.3095e+00, -2.9641e+00,\n",
      "         -2.4729e+00,  1.8927e+00, -1.3966e+00,  1.3328e+00,  1.8525e+00],\n",
      "        [-6.7263e-01, -1.5275e-01,  1.4672e+00, -8.5723e-03,  1.0536e+00,\n",
      "          6.6293e-01, -2.7472e-01, -6.0150e-02, -3.5263e+00,  1.2590e+00],\n",
      "        [ 5.8731e-01, -2.7894e-02, -8.9627e-01, -1.7006e+00, -2.0203e+00,\n",
      "         -6.4767e-01,  1.4253e+00,  6.5192e-01,  8.8598e-01, -6.3204e-01],\n",
      "        [ 5.0366e-01,  1.7442e+00,  1.5132e-01, -2.6300e+00,  9.1832e-01,\n",
      "          1.8770e+00,  4.7478e-01,  7.0326e-01, -1.1540e+00, -2.4616e+00],\n",
      "        [-1.2866e+00, -5.3655e-01,  9.9251e-01,  1.1028e+00,  5.2745e-01,\n",
      "         -6.0662e+00,  9.3963e-01,  4.5931e-01,  1.1903e+00,  1.7608e-01],\n",
      "        [-9.2739e-02, -1.9340e+00, -9.1881e-01,  5.5147e-02, -8.8716e-01,\n",
      "          2.7546e+00, -3.2754e-01,  4.4031e-01,  2.5687e-01, -4.9601e-01],\n",
      "        [-1.4068e+00,  7.8854e-04, -7.9872e-01,  1.4418e+00,  9.8337e-02,\n",
      "          3.5136e-01, -6.0925e-01,  9.7481e-01, -2.9373e-01,  1.0580e-01]])\n",
      "tensor([ 2.6964,  4.2694, -1.2687, -2.2584, -1.7072,  0.8056, -3.7652, -1.1592,\n",
      "         2.4268,  1.6576])\n"
     ]
    }
   ],
   "source": [
    "for name, param in model.named_parameters():\n",
    "    print(param.data)"
   ]
  },
  {
   "cell_type": "code",
   "execution_count": null,
   "id": "981059de-6487-4913-be3e-694397c95dcf",
   "metadata": {},
   "outputs": [],
   "source": []
  }
 ],
 "metadata": {
  "kernelspec": {
   "display_name": "Python 3 (ipykernel)",
   "language": "python",
   "name": "python3"
  },
  "language_info": {
   "codemirror_mode": {
    "name": "ipython",
    "version": 3
   },
   "file_extension": ".py",
   "mimetype": "text/x-python",
   "name": "python",
   "nbconvert_exporter": "python",
   "pygments_lexer": "ipython3",
   "version": "3.11.5"
  }
 },
 "nbformat": 4,
 "nbformat_minor": 5
}
